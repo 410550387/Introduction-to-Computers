{
  "nbformat": 4,
  "nbformat_minor": 0,
  "metadata": {
    "colab": {
      "name": "0525.ipynb",
      "provenance": [],
      "authorship_tag": "ABX9TyNQqumqhZyhLBEtmzZ6j/z6",
      "include_colab_link": true
    },
    "kernelspec": {
      "name": "python3",
      "display_name": "Python 3"
    },
    "language_info": {
      "name": "python"
    }
  },
  "cells": [
    {
      "cell_type": "markdown",
      "metadata": {
        "id": "view-in-github",
        "colab_type": "text"
      },
      "source": [
        "<a href=\"https://colab.research.google.com/github/410550387/Introduction-to-Computers/blob/main/0525.ipynb\" target=\"_parent\"><img src=\"https://colab.research.google.com/assets/colab-badge.svg\" alt=\"Open In Colab\"/></a>"
      ]
    },
    {
      "cell_type": "code",
      "execution_count": null,
      "metadata": {
        "colab": {
          "base_uri": "https://localhost:8080/"
        },
        "id": "8CxyHNrw8U5Q",
        "outputId": "f6a85529-5f69-4c61-80ed-37ea553bb172"
      },
      "outputs": [
        {
          "output_type": "stream",
          "name": "stdout",
          "text": [
            "test\n"
          ]
        }
      ],
      "source": [
        "print(\"test\")"
      ]
    },
    {
      "cell_type": "code",
      "source": [
        "sum=0\n",
        "test=int(input(\"請輸入一個正整數\"))\n",
        "for n in range(1,test+1):\n",
        "  sum=sum+n\n",
        "print(\"1到\",test,\"的整數和為\",sum)"
      ],
      "metadata": {
        "colab": {
          "base_uri": "https://localhost:8080/"
        },
        "id": "IzIjqgjG8geF",
        "outputId": "f140cd8f-b06a-4550-ba88-965fd565229f"
      },
      "execution_count": null,
      "outputs": [
        {
          "output_type": "stream",
          "name": "stdout",
          "text": [
            "請輸入一個正整數50\n",
            "1到 50 的整數和為 1275\n"
          ]
        }
      ]
    },
    {
      "cell_type": "code",
      "source": [
        "sum=0\n",
        "test=int(input(\"請輸入一個正整數\"))\n",
        "for m in range(1,test+1):\n",
        "  sum=sum+n\n",
        "  print(\"1到\"+str(m)+\"的整數和為:\",sum)"
      ],
      "metadata": {
        "colab": {
          "base_uri": "https://localhost:8080/"
        },
        "outputId": "ed3dce64-caef-4106-8f8b-c56a9b7891a0",
        "id": "Yp2Jd8GU-jDb"
      },
      "execution_count": null,
      "outputs": [
        {
          "output_type": "stream",
          "name": "stdout",
          "text": [
            "請輸入一個正整數50\n",
            "1到1的整數和為: 1\n",
            "1到2的整數和為: 2\n",
            "1到3的整數和為: 3\n",
            "1到4的整數和為: 4\n",
            "1到5的整數和為: 5\n",
            "1到6的整數和為: 6\n",
            "1到7的整數和為: 7\n",
            "1到8的整數和為: 8\n",
            "1到9的整數和為: 9\n",
            "1到10的整數和為: 10\n",
            "1到11的整數和為: 11\n",
            "1到12的整數和為: 12\n",
            "1到13的整數和為: 13\n",
            "1到14的整數和為: 14\n",
            "1到15的整數和為: 15\n",
            "1到16的整數和為: 16\n",
            "1到17的整數和為: 17\n",
            "1到18的整數和為: 18\n",
            "1到19的整數和為: 19\n",
            "1到20的整數和為: 20\n",
            "1到21的整數和為: 21\n",
            "1到22的整數和為: 22\n",
            "1到23的整數和為: 23\n",
            "1到24的整數和為: 24\n",
            "1到25的整數和為: 25\n",
            "1到26的整數和為: 26\n",
            "1到27的整數和為: 27\n",
            "1到28的整數和為: 28\n",
            "1到29的整數和為: 29\n",
            "1到30的整數和為: 30\n",
            "1到31的整數和為: 31\n",
            "1到32的整數和為: 32\n",
            "1到33的整數和為: 33\n",
            "1到34的整數和為: 34\n",
            "1到35的整數和為: 35\n",
            "1到36的整數和為: 36\n",
            "1到37的整數和為: 37\n",
            "1到38的整數和為: 38\n",
            "1到39的整數和為: 39\n",
            "1到40的整數和為: 40\n",
            "1到41的整數和為: 41\n",
            "1到42的整數和為: 42\n",
            "1到43的整數和為: 43\n",
            "1到44的整數和為: 44\n",
            "1到45的整數和為: 45\n",
            "1到46的整數和為: 46\n",
            "1到47的整數和為: 47\n",
            "1到48的整數和為: 48\n",
            "1到49的整數和為: 49\n",
            "1到50的整數和為: 50\n"
          ]
        }
      ]
    },
    {
      "cell_type": "code",
      "source": [
        "for j in range(1,5):\n",
        "  print(j)\n",
        "  for i in range(1,3):\n",
        "    k=i*j\n",
        "    print(j,\"*\",i,\"=\",k)"
      ],
      "metadata": {
        "colab": {
          "base_uri": "https://localhost:8080/"
        },
        "id": "R41X_HSL-0Kx",
        "outputId": "9f8fbfb8-be3c-49fd-e121-5f04293b19ed"
      },
      "execution_count": null,
      "outputs": [
        {
          "output_type": "stream",
          "name": "stdout",
          "text": [
            "1\n",
            "1 * 1 = 1\n",
            "1 * 2 = 2\n",
            "2\n",
            "2 * 1 = 2\n",
            "2 * 2 = 4\n",
            "3\n",
            "3 * 1 = 3\n",
            "3 * 2 = 6\n",
            "4\n",
            "4 * 1 = 4\n",
            "4 * 2 = 8\n"
          ]
        }
      ]
    },
    {
      "cell_type": "code",
      "source": [
        "for i in range(1,5):\n",
        "  if(i==3):\n",
        "    break\n",
        "  print(i,end=\"\")"
      ],
      "metadata": {
        "colab": {
          "base_uri": "https://localhost:8080/"
        },
        "id": "f6NsWknr_-wJ",
        "outputId": "d2e8dcf2-2046-4682-8f43-9668c0442508"
      },
      "execution_count": null,
      "outputs": [
        {
          "output_type": "stream",
          "name": "stdout",
          "text": [
            "12"
          ]
        }
      ]
    },
    {
      "cell_type": "code",
      "source": [
        "count=0\n",
        "for string in \"hello!\":\n",
        "  count+=1\n",
        "  if string==\"o\":\n",
        "    break\n",
        "  print(string)\n",
        "print(\"迴圈結束\")\n",
        "print(\"迴圈執行了%d次\" %count)"
      ],
      "metadata": {
        "colab": {
          "base_uri": "https://localhost:8080/"
        },
        "id": "_EnFS-tIAfUw",
        "outputId": "eb955e36-94d1-4e0d-d883-b42e630b341a"
      },
      "execution_count": null,
      "outputs": [
        {
          "output_type": "stream",
          "name": "stdout",
          "text": [
            "h\n",
            "e\n",
            "l\n",
            "l\n",
            "迴圈結束\n",
            "迴圈執行了5次\n"
          ]
        }
      ]
    },
    {
      "cell_type": "code",
      "source": [
        "count=0\n",
        "for string in \"測試看看\":\n",
        "  count+=1\n",
        "  if string==\"看\":\n",
        "    break\n",
        "  print(string)\n",
        "print(\"迴圈結束\")\n",
        "print(\"迴圈執行了%d次\" %count)"
      ],
      "metadata": {
        "colab": {
          "base_uri": "https://localhost:8080/"
        },
        "outputId": "f2d8939e-3bed-43be-9eac-506c288f14ea",
        "id": "Uz_jLoAQCu7i"
      },
      "execution_count": null,
      "outputs": [
        {
          "output_type": "stream",
          "name": "stdout",
          "text": [
            "測\n",
            "試\n",
            "迴圈結束\n",
            "迴圈執行了3次\n"
          ]
        }
      ]
    },
    {
      "cell_type": "code",
      "source": [
        ""
      ],
      "metadata": {
        "id": "yPELefzJCywK"
      },
      "execution_count": null,
      "outputs": []
    }
  ]
}