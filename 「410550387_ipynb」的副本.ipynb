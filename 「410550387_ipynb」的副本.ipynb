{
  "nbformat": 4,
  "nbformat_minor": 0,
  "metadata": {
    "colab": {
      "name": "「410550387.ipynb」的副本",
      "provenance": [],
      "collapsed_sections": [],
      "authorship_tag": "ABX9TyPVB/x6JS6TrrrKpuN55sea",
      "include_colab_link": true
    },
    "kernelspec": {
      "name": "python3",
      "display_name": "Python 3"
    },
    "language_info": {
      "name": "python"
    }
  },
  "cells": [
    {
      "cell_type": "markdown",
      "metadata": {
        "id": "view-in-github",
        "colab_type": "text"
      },
      "source": [
        "<a href=\"https://colab.research.google.com/github/410550387/Introduction-to-Computers/blob/main/%E3%80%8C410550387_ipynb%E3%80%8D%E7%9A%84%E5%89%AF%E6%9C%AC.ipynb\" target=\"_parent\"><img src=\"https://colab.research.google.com/assets/colab-badge.svg\" alt=\"Open In Colab\"/></a>"
      ]
    },
    {
      "cell_type": "code",
      "execution_count": null,
      "metadata": {
        "id": "e1J1FmADPFCE",
        "colab": {
          "base_uri": "https://localhost:8080/"
        },
        "outputId": "80326ae5-82fa-4fc2-bd36-18484296c471"
      },
      "outputs": [
        {
          "output_type": "stream",
          "name": "stdout",
          "text": [
            "0~50的偶數和結果是 650\n",
            "0~50的奇數結果是 625\n"
          ]
        }
      ],
      "source": [
        "total=n=0\n",
        "while(n<=50):\n",
        "  total+=n\n",
        "  n+=2\n",
        "print(\"0~50的偶數和結果是\",total)\n",
        "total=0\n",
        "n=1\n",
        "while(n<=50):\n",
        "  total+=n\n",
        "  n+=2\n",
        "print(\"0~50的奇數結果是\",total)"
      ]
    },
    {
      "cell_type": "code",
      "source": [
        "a=int(input(\"請輸入正整數:\"))\n",
        "for b in range(a,0,-1):\n",
        "  for c in range(b,0,-1):\n",
        "    print(\"*\",end=\"\")\n",
        "  print()"
      ],
      "metadata": {
        "id": "AW-Ncf-jPQ0B",
        "colab": {
          "base_uri": "https://localhost:8080/"
        },
        "outputId": "a677357f-0808-456c-ed4c-9ad377956251"
      },
      "execution_count": null,
      "outputs": [
        {
          "output_type": "stream",
          "name": "stdout",
          "text": [
            "請輸入正整數:7\n",
            "*******\n",
            "******\n",
            "*****\n",
            "****\n",
            "***\n",
            "**\n",
            "*\n"
          ]
        }
      ]
    },
    {
      "cell_type": "code",
      "source": [
        "a=0\n",
        "for i in range(1,101):\n",
        " if i%3==0 or i%7==0:\n",
        "  a+=i\n",
        "print(\"數值1~100中，所有是3或7倍數的數之總和=\",a)"
      ],
      "metadata": {
        "id": "pjCUULhoPQsT",
        "colab": {
          "base_uri": "https://localhost:8080/"
        },
        "outputId": "396bd5bc-d9c7-4dea-e457-e4115e05de87"
      },
      "execution_count": 3,
      "outputs": [
        {
          "output_type": "stream",
          "name": "stdout",
          "text": [
            "數值1~100中，所有是3或7倍數的數之總和= 2208\n"
          ]
        }
      ]
    },
    {
      "cell_type": "code",
      "source": [
        "n=int(input(\"請輸入一個正整數:\"))\n",
        "print(n,\"的因數有\",end=\"\")\n",
        "for a in range(1,n+1):\n",
        "  if n%a==0:\n",
        "    print(a,end=\"\")\n",
        "print()\n",
        "for i in range(2,n):\n",
        "  if n%i==0:\n",
        "    print(n,\"不是質數\")\n",
        "    break\n",
        "  else:\n",
        "      print(n,\"是質數\")\n",
        "      break"
      ],
      "metadata": {
        "colab": {
          "base_uri": "https://localhost:8080/"
        },
        "id": "naukzwiEPQcy",
        "outputId": "c1b7cce4-4285-4f0a-8133-a9931b495641"
      },
      "execution_count": null,
      "outputs": [
        {
          "output_type": "stream",
          "name": "stdout",
          "text": [
            "請輸入一個正整數:12\n",
            "12 的因數有1234612\n",
            "12 不是質數\n"
          ]
        }
      ]
    },
    {
      "cell_type": "code",
      "source": [
        ""
      ],
      "metadata": {
        "id": "rfLJ0ZpjQeoG"
      },
      "execution_count": null,
      "outputs": []
    }
  ]
}